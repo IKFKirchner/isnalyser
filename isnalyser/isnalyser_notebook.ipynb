{
  "nbformat": 4,
  "nbformat_minor": 0,
  "metadata": {
    "colab": {
      "name": "isnalyser_notebook.ipynb",
      "provenance": [],
      "collapsed_sections": []
    },
    "kernelspec": {
      "name": "python3",
      "display_name": "Python 3"
    }
  },
  "cells": [
    {
      "cell_type": "markdown",
      "metadata": {
        "id": "hzkBH-YcLZqZ"
      },
      "source": [
        "# isnalyser\n",
        "This notebook will allow users to experiment with more parameters as those provided in the pypi package.\n"
      ]
    },
    {
      "cell_type": "markdown",
      "metadata": {
        "id": "13TxXak-Mah0"
      },
      "source": [
        "### Importing the necessary libraries"
      ]
    },
    {
      "cell_type": "code",
      "metadata": {
        "id": "mwKmV_ENNErv"
      },
      "source": [
        "from collections import defaultdict\n",
        "import itertools\n",
        "import pandas as pd\n",
        "import matplotlib.pyplot as plt\n",
        "import matplotlib as mpl\n",
        "import numpy as np\n",
        "\n",
        "from graphviz import Digraph"
      ],
      "execution_count": null,
      "outputs": []
    },
    {
      "cell_type": "markdown",
      "metadata": {
        "id": "oBl-0a3mNPPv"
      },
      "source": [
        "### Creating the dataframe from the files"
      ]
    },
    {
      "cell_type": "code",
      "metadata": {
        "id": "-NaHK1bpNk8D"
      },
      "source": [
        "path_to_transmitters_file = 'https://raw.githubusercontent.com/dhakarat/isnalyser/master/isnalyser/example_data/transmitters_example.csv'\n",
        "path_to_transmissions_file = 'https://raw.githubusercontent.com/dhakarat/isnalyser/master/isnalyser/example_data/transmissions_example.csv'"
      ],
      "execution_count": null,
      "outputs": []
    },
    {
      "cell_type": "code",
      "metadata": {
        "id": "iA8nzIbJPhRG"
      },
      "source": [
        "df_nodes = pd.read_csv(path_to_transmitters_file)\n",
        "df_edges = pd.read_csv(path_to_transmissions_file)"
      ],
      "execution_count": null,
      "outputs": []
    },
    {
      "cell_type": "markdown",
      "metadata": {
        "id": "wTyzRbARZ6t3"
      },
      "source": [
        "### Abbreviation"
      ]
    },
    {
      "cell_type": "code",
      "metadata": {
        "id": "xpVGf_aqZ8xP"
      },
      "source": [
        "# The following dictionary contains some possible abbreviation and can be edited or complemented according to the needs\n",
        "d_abb = {'Muḥammad': 'M.', \n",
        "         'Abd al-Raḥmān': 'AR', \n",
        "         'Abd Allāh': 'AA', \n",
        "         'ibn':'\\n b.'}"
      ],
      "execution_count": null,
      "outputs": []
    },
    {
      "cell_type": "code",
      "metadata": {
        "id": "kRbTeENMaXz3"
      },
      "source": [
        "def abbreviates(string, dic):\n",
        "    \"\"\"Create an abbreviated version of all transmitters' name according to the given dictionary.\n",
        "    \"\"\"\n",
        "    new_str = string\n",
        "    for key in dic:\n",
        "        new_str = new_str.replace(key, dic[key])\n",
        "    \n",
        "    return new_str"
      ],
      "execution_count": null,
      "outputs": []
    },
    {
      "cell_type": "code",
      "metadata": {
        "id": "9gy7cISHbBiu"
      },
      "source": [
        "# Modifying the dataframes\n",
        "df_nodes['Transmitters'] = df_nodes.Transmitters.apply(abbreviates, dic=d_abb)\n",
        "df_edges['From'] = df_edges.From.apply(abbreviates, dic=d_abb)\n",
        "df_edges['To'] = df_edges.To.apply(abbreviates, dic=d_abb)"
      ],
      "execution_count": null,
      "outputs": []
    },
    {
      "cell_type": "markdown",
      "metadata": {
        "id": "sUjPiJBxP6c5"
      },
      "source": [
        "### Ranking the transmitters chronologically"
      ]
    },
    {
      "cell_type": "code",
      "metadata": {
        "id": "Y2kq5cjBXawK"
      },
      "source": [
        "timeline_step = 15 # defining the time laps between each time step, default 15 years\n",
        "df_nodes['Ranking'] = df_nodes.dAH // timeline_step"
      ],
      "execution_count": null,
      "outputs": []
    },
    {
      "cell_type": "markdown",
      "metadata": {
        "id": "N_yiiRr3ZO-I"
      },
      "source": [
        "### Functions and parameters for the timeline subgraph"
      ]
    },
    {
      "cell_type": "code",
      "metadata": {
        "id": "ovJNj_eac5pd"
      },
      "source": [
        "def rank_list(date:str, rank:int, df:pd.DataFrame.astype) -> list:\n",
        "    \"\"\"\n",
        "    Return a list with the date and all the node \n",
        "    ids that should be placed at the same rank.\n",
        "    \"\"\"\n",
        "    same_rank = df[df.Ranking==rank].Transmitters.values\n",
        "    l = [date]\n",
        "    if len(same_rank) == 0:\n",
        "        same_rank = ['placeholder']\n",
        "    l.extend(same_rank)\n",
        "\n",
        "    return l"
      ],
      "execution_count": null,
      "outputs": []
    },
    {
      "cell_type": "code",
      "metadata": {
        "id": "3LB1FTQ_c-zc"
      },
      "source": [
        "def same_rank_subgraph(G:Digraph, rank_lst:list) -> None:\n",
        "    \"\"\" Return a subgraph of nodes from same-rank ids. \"\"\"\n",
        "    with G.subgraph() as s:\n",
        "        s.attr(rank='same')\n",
        "        for node_id in rank_lst:\n",
        "            if node_id != 'placeholder':\n",
        "                s.node(node_id)"
      ],
      "execution_count": null,
      "outputs": []
    },
    {
      "cell_type": "code",
      "metadata": {
        "id": "tHtRG0t2dFCu"
      },
      "source": [
        "def a_timeline(G:Digraph, minimum:int, maximum:int, step:int, n_attr:dict, e_attr:dict) -> None:\n",
        "    \"\"\"\n",
        "    Create a timeline in the form of a subgraph\n",
        "    G = the original graph\n",
        "    s = G's subgraph\n",
        "    minimum = start of the timeline\n",
        "    maximum = end of the timeline\n",
        "    step = years' slice\n",
        "    n_attr = dict with the attribute of the subgraph's nodes\n",
        "    e_attr = dict with the attribute of the subgraph's edges\n",
        "    \"\"\"\n",
        "    with G.subgraph(name='cluster') as s:\n",
        "        s.attr(color='white', K='0.3')\n",
        "        for j in range(minimum, maximum, step):\n",
        "            s.node_attr.update(**n_attr)  \n",
        "            s.edge(str(j), str(j+step), **e_attr)"
      ],
      "execution_count": null,
      "outputs": []
    },
    {
      "cell_type": "markdown",
      "metadata": {
        "id": "E_yIYKoSdpAw"
      },
      "source": [
        "### Concentrating the paths to avoid multiple edges"
      ]
    },
    {
      "cell_type": "code",
      "metadata": {
        "id": "DICxNmc8e2k2"
      },
      "source": [
        "def path_all(df):\n",
        "    \"\"\"Join the edges that start and end with the same transmitters.\"\"\"\n",
        "    return '\\n'.join(df.FileName)\n",
        "\n",
        "\n",
        "def merge_edges(df:pd.DataFrame.astype) -> pd.DataFrame.astype:\n",
        "    \"\"\" \n",
        "    Merge redundant edges into a single edge connecting nodes.\n",
        "    If file doesn't provide FileName (i.e. name of text), return input dataframe.\n",
        "    \"\"\"\n",
        "    try:\n",
        "        df_paths = df.merge(\n",
        "                            pd.DataFrame(df.groupby(['From', 'To']).apply(path_all)),\n",
        "                            on=['From', 'To']).rename(columns={0:'paths'})\n",
        "        return df_paths[~df_paths.duplicated(['From', 'To'])]\n",
        "    except AttributeError:\n",
        "        return df\n",
        "\n",
        "\n",
        "df_edges = merge_edges(df_edges)"
      ],
      "execution_count": null,
      "outputs": []
    },
    {
      "cell_type": "markdown",
      "metadata": {
        "id": "VJ5g-xaofkgD"
      },
      "source": [
        "### Function and parameters to colour the transmitters according to their place of origin"
      ]
    },
    {
      "cell_type": "code",
      "metadata": {
        "id": "DBNr86eegCZX"
      },
      "source": [
        "\"\"\" This module uses a list of colours, called <colors>, the length of which = the number of cities that need to be highlighted in different colours.\n",
        "    With a for loop it then creates a dictionary and attributes to each city [key] a color [value]\n",
        "    \n",
        "\"\"\"\n",
        "\n",
        "def get_discrete_cmap(N, base_cmap=None):\n",
        "    \"\"\"Create an N-bin discrete colormap based on the specified input map. \"\"\"\n",
        "    base = plt.cm.get_cmap(base_cmap)\n",
        "    color_list = base(np.linspace(0, 1, N))\n",
        "    cmap_name = base.name + str(N)\n",
        "    \n",
        "    return base.from_list(cmap_name, color_list, N)"
      ],
      "execution_count": null,
      "outputs": []
    },
    {
      "cell_type": "markdown",
      "metadata": {
        "id": "ctMbNv4ci-cw"
      },
      "source": [
        "### Drawing the graph"
      ]
    },
    {
      "cell_type": "code",
      "metadata": {
        "id": "8q1K-nsEjBiX",
        "outputId": "a45c287d-7433-4ea6-ca1c-d21635237a8e",
        "colab": {
          "base_uri": "https://localhost:8080/",
          "height": 730
        }
      },
      "source": [
        "# Creating the main graph    \n",
        "g = Digraph('graph', filename='graph.gv',\n",
        "            graph_attr=dict(size='12,24', fontsize='16',\n",
        "            ranksep='1.2', concentrate='false'),\n",
        "            node_attr=dict(shape='none')) \n",
        "\n",
        "# coloring the nodes according to origin\n",
        "color_origin='auto'\n",
        "num_origins = df_nodes.Origin.nunique(dropna=False)\n",
        "if color_origin=='auto':\n",
        "    cmap = get_discrete_cmap(num_origins, base_cmap='nipy_spectral')\n",
        "    colors = (mpl.colors.to_hex(cmap(i)) for i in range(num_origins))\n",
        "    color_cycle = itertools.cycle(colors)\n",
        "    # Matching colors to origins\n",
        "    color_origin = dict()\n",
        "    for i, origin in enumerate(df_nodes.Origin.unique()):\n",
        "      color_origin[origin] = next(color_cycle)\n",
        "else:\n",
        "    # every origin black except those in the color_origin parameter\n",
        "    color_origin = defaultdict(lambda: 'black', color_origin)\n",
        "\n",
        "df_nodes['Color'] = df_nodes.Origin.map(color_origin)\n",
        "        \n",
        "# Creating the nodes\n",
        "for _, row in df_nodes.iterrows():\n",
        "    g.node(name=row.Transmitters, fontcolor=row.Color)\n",
        "\n",
        "# Defining the timeline subgraph attributes\n",
        "minimum = df_nodes.Ranking.min()\n",
        "maximum = df_nodes.Ranking.max()\n",
        "\n",
        "#Dictionary of nodes' attributes\n",
        "n_attr = {'name':'j', 'shape':'none'}\n",
        "\n",
        "#Dictionary of edges' attributes\n",
        "e_attr = {'arrowhead':'none', 'color':'black', 'penwidth':'2', 'len':'1.0'}\n",
        "\n",
        "# Creating the timeline as a subgraph\n",
        "a_timeline(g, minimum*timeline_step, maximum*timeline_step, timeline_step, n_attr, e_attr)\n",
        "\n",
        "#  Linking the nodes of the subgraph and the main graph together\n",
        "for rank in range(df_nodes.Ranking.unique().max()+1):\n",
        "    nodes_ranks = rank_list(str(rank*timeline_step), rank, df_nodes)\n",
        "    same_rank_subgraph(g, nodes_ranks)\n",
        "\n",
        "# Creating the edges (transmission paths)\n",
        "for _, row in df_edges.iterrows():\n",
        "    g.edge(row.From, row.To, arrowhead='vee')\n",
        "\n",
        "g.format= 'svg' # 'pdf'\n",
        "\n",
        "g.view()\n",
        "g"
      ],
      "execution_count": null,
      "outputs": [
        {
          "output_type": "execute_result",
          "data": {
            "text/plain": [
              "<graphviz.dot.Digraph at 0x7f75f7124ac8>"
            ],
            "image/svg+xml": "<?xml version=\"1.0\" encoding=\"UTF-8\" standalone=\"no\"?>\n<!DOCTYPE svg PUBLIC \"-//W3C//DTD SVG 1.1//EN\"\n \"http://www.w3.org/Graphics/SVG/1.1/DTD/svg11.dtd\">\n<!-- Generated by graphviz version 2.40.1 (20161225.0304)\n -->\n<!-- Title: graph Pages: 1 -->\n<svg width=\"375pt\" height=\"532pt\"\n viewBox=\"0.00 0.00 375.00 532.00\" xmlns=\"http://www.w3.org/2000/svg\" xmlns:xlink=\"http://www.w3.org/1999/xlink\">\n<g id=\"graph0\" class=\"graph\" transform=\"scale(1 1) rotate(0) translate(4 528)\">\n<title>graph</title>\n<polygon fill=\"#ffffff\" stroke=\"transparent\" points=\"-4,4 -4,-528 371,-528 371,4 -4,4\"/>\n<!-- A -->\n<g id=\"node1\" class=\"node\">\n<title>A</title>\n<text text-anchor=\"middle\" x=\"55\" y=\"-502.3\" font-family=\"Times,serif\" font-size=\"14.00\" fill=\"#000000\">A</text>\n</g>\n<!-- D -->\n<g id=\"node4\" class=\"node\">\n<title>D</title>\n<text text-anchor=\"middle\" x=\"55\" y=\"-258.3\" font-family=\"Times,serif\" font-size=\"14.00\" fill=\"#000000\">D</text>\n</g>\n<!-- A&#45;&gt;D -->\n<g id=\"edge5\" class=\"edge\">\n<title>A&#45;&gt;D</title>\n<path fill=\"none\" stroke=\"#000000\" d=\"M55,-487.6603C55,-445.4295 55,-341.0716 55,-290.4492\"/>\n<polygon fill=\"#000000\" stroke=\"#000000\" points=\"55,-280.2196 59.5001,-290.2196 55,-285.2196 55.0001,-290.2196 55.0001,-290.2196 55.0001,-290.2196 55,-285.2196 50.5001,-290.2197 55,-280.2196 55,-280.2196\"/>\n</g>\n<!-- B -->\n<g id=\"node2\" class=\"node\">\n<title>B</title>\n<text text-anchor=\"middle\" x=\"165\" y=\"-380.3\" font-family=\"Times,serif\" font-size=\"14.00\" fill=\"#00bc00\">B</text>\n</g>\n<!-- E -->\n<g id=\"node5\" class=\"node\">\n<title>E</title>\n<text text-anchor=\"middle\" x=\"137\" y=\"-136.3\" font-family=\"Times,serif\" font-size=\"14.00\" fill=\"#cccccc\">E</text>\n</g>\n<!-- B&#45;&gt;E -->\n<g id=\"edge6\" class=\"edge\">\n<title>B&#45;&gt;E</title>\n<path fill=\"none\" stroke=\"#000000\" d=\"M162.8954,-365.6603C158.0493,-323.4295 146.0738,-219.0716 140.2647,-168.4492\"/>\n<polygon fill=\"#000000\" stroke=\"#000000\" points=\"139.0908,-158.2196 144.7016,-167.6414 139.6608,-163.187 140.2309,-168.1544 140.2309,-168.1544 140.2309,-168.1544 139.6608,-163.187 135.7603,-168.6675 139.0908,-158.2196 139.0908,-158.2196\"/>\n</g>\n<!-- G -->\n<g id=\"node7\" class=\"node\">\n<title>G</title>\n<text text-anchor=\"middle\" x=\"192\" y=\"-14.3\" font-family=\"Times,serif\" font-size=\"14.00\" fill=\"#000000\">G</text>\n</g>\n<!-- B&#45;&gt;G -->\n<g id=\"edge7\" class=\"edge\">\n<title>B&#45;&gt;G</title>\n<path fill=\"none\" stroke=\"#000000\" d=\"M166.3389,-365.85C170.7113,-306.5806 184.5936,-118.3985 189.9052,-46.3965\"/>\n<polygon fill=\"#000000\" stroke=\"#000000\" points=\"190.653,-36.2595 194.405,-46.5636 190.2851,-41.246 189.9172,-46.2324 189.9172,-46.2324 189.9172,-46.2324 190.2851,-41.246 185.4294,-45.9013 190.653,-36.2595 190.653,-36.2595\"/>\n</g>\n<!-- C -->\n<g id=\"node3\" class=\"node\">\n<title>C</title>\n<text text-anchor=\"middle\" x=\"253\" y=\"-380.3\" font-family=\"Times,serif\" font-size=\"14.00\" fill=\"#cccccc\">C</text>\n</g>\n<!-- C&#45;&gt;G -->\n<g id=\"edge8\" class=\"edge\">\n<title>C&#45;&gt;G</title>\n<path fill=\"none\" stroke=\"#000000\" d=\"M249.975,-365.85C240.0968,-306.5806 208.7331,-118.3985 196.7327,-46.3965\"/>\n<polygon fill=\"#000000\" stroke=\"#000000\" points=\"195.0433,-36.2595 201.1261,-45.3837 195.8653,-41.1915 196.6873,-46.1235 196.6873,-46.1235 196.6873,-46.1235 195.8653,-41.1915 192.2486,-46.8633 195.0433,-36.2595 195.0433,-36.2595\"/>\n</g>\n<!-- H -->\n<g id=\"node8\" class=\"node\">\n<title>H</title>\n<text text-anchor=\"middle\" x=\"268\" y=\"-14.3\" font-family=\"Times,serif\" font-size=\"14.00\" fill=\"#00bc00\">H</text>\n</g>\n<!-- C&#45;&gt;H -->\n<g id=\"edge9\" class=\"edge\">\n<title>C&#45;&gt;H</title>\n<path fill=\"none\" stroke=\"#000000\" d=\"M253.7439,-365.85C256.1729,-306.5806 263.8853,-118.3985 266.8362,-46.3965\"/>\n<polygon fill=\"#000000\" stroke=\"#000000\" points=\"267.2517,-36.2595 271.3383,-46.4355 267.0469,-41.2554 266.8421,-46.2512 266.8421,-46.2512 266.8421,-46.2512 267.0469,-41.2554 262.3458,-46.0668 267.2517,-36.2595 267.2517,-36.2595\"/>\n</g>\n<!-- F -->\n<g id=\"node6\" class=\"node\">\n<title>F</title>\n<text text-anchor=\"middle\" x=\"27\" y=\"-136.3\" font-family=\"Times,serif\" font-size=\"14.00\" fill=\"#cccccc\">F</text>\n</g>\n<!-- D&#45;&gt;F -->\n<g id=\"edge10\" class=\"edge\">\n<title>D&#45;&gt;F</title>\n<path fill=\"none\" stroke=\"#000000\" d=\"M50.8685,-243.9985C46.2777,-223.9958 38.8065,-191.4427 33.4453,-168.0831\"/>\n<polygon fill=\"#000000\" stroke=\"#000000\" points=\"31.1484,-158.0754 37.7714,-166.8153 32.2669,-162.9487 33.3854,-167.822 33.3854,-167.822 33.3854,-167.822 32.2669,-162.9487 28.9995,-168.8286 31.1484,-158.0754 31.1484,-158.0754\"/>\n</g>\n<!-- D&#45;&gt;G -->\n<g id=\"edge11\" class=\"edge\">\n<title>D&#45;&gt;G</title>\n<path fill=\"none\" stroke=\"#000000\" d=\"M58.528,-243.8088C64.4179,-216.1462 77.9389,-162.4509 101,-122 118.0688,-92.0601 144.6346,-62.9746 164.6651,-43.2116\"/>\n<polygon fill=\"#000000\" stroke=\"#000000\" points=\"171.9885,-36.1113 167.9412,-46.303 168.3987,-39.5917 164.8089,-43.0722 164.8089,-43.0722 164.8089,-43.0722 168.3987,-39.5917 161.6765,-39.8413 171.9885,-36.1113 171.9885,-36.1113\"/>\n</g>\n<!-- 0 -->\n<g id=\"node9\" class=\"node\">\n<title>0</title>\n<text text-anchor=\"middle\" x=\"340\" y=\"-502.3\" font-family=\"Times,serif\" font-size=\"14.00\" fill=\"#000000\">0</text>\n</g>\n<!-- 15 -->\n<g id=\"node10\" class=\"node\">\n<title>15</title>\n<text text-anchor=\"middle\" x=\"340\" y=\"-380.3\" font-family=\"Times,serif\" font-size=\"14.00\" fill=\"#000000\">15</text>\n</g>\n<!-- 0&#45;&gt;15 -->\n<g id=\"edge1\" class=\"edge\">\n<title>0&#45;&gt;15</title>\n<path fill=\"none\" stroke=\"#000000\" stroke-width=\"2\" d=\"M340,-487.9985C340,-464.9324 340,-425.177 340,-402.0754\"/>\n</g>\n<!-- 30 -->\n<g id=\"node11\" class=\"node\">\n<title>30</title>\n<text text-anchor=\"middle\" x=\"340\" y=\"-258.3\" font-family=\"Times,serif\" font-size=\"14.00\" fill=\"#000000\">30</text>\n</g>\n<!-- 15&#45;&gt;30 -->\n<g id=\"edge2\" class=\"edge\">\n<title>15&#45;&gt;30</title>\n<path fill=\"none\" stroke=\"#000000\" stroke-width=\"2\" d=\"M340,-365.9985C340,-342.9324 340,-303.177 340,-280.0754\"/>\n</g>\n<!-- 45 -->\n<g id=\"node12\" class=\"node\">\n<title>45</title>\n<text text-anchor=\"middle\" x=\"340\" y=\"-136.3\" font-family=\"Times,serif\" font-size=\"14.00\" fill=\"#000000\">45</text>\n</g>\n<!-- 30&#45;&gt;45 -->\n<g id=\"edge3\" class=\"edge\">\n<title>30&#45;&gt;45</title>\n<path fill=\"none\" stroke=\"#000000\" stroke-width=\"2\" d=\"M340,-243.9985C340,-220.9324 340,-181.177 340,-158.0754\"/>\n</g>\n<!-- 60 -->\n<g id=\"node13\" class=\"node\">\n<title>60</title>\n<text text-anchor=\"middle\" x=\"340\" y=\"-14.3\" font-family=\"Times,serif\" font-size=\"14.00\" fill=\"#000000\">60</text>\n</g>\n<!-- 45&#45;&gt;60 -->\n<g id=\"edge4\" class=\"edge\">\n<title>45&#45;&gt;60</title>\n<path fill=\"none\" stroke=\"#000000\" stroke-width=\"2\" d=\"M340,-121.9985C340,-98.9324 340,-59.177 340,-36.0754\"/>\n</g>\n</g>\n</svg>\n"
          },
          "metadata": {
            "tags": []
          },
          "execution_count": 22
        }
      ]
    }
  ]
}
