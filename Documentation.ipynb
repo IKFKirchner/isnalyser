{
 "cells": [
  {
   "cell_type": "markdown",
   "metadata": {},
   "source": [
    "# Isnalyser: Automated isnad tree drawing"
   ]
  },
  {
   "cell_type": "markdown",
   "metadata": {},
   "source": [
    "The present project aims at automating the drawing of *isnād* trees.\n",
    "\n",
    "This folder contains:\n",
    "\n",
    "- Two modules:\n",
    "  - `graph.py` with the function that draws the graph\n",
    "    \n",
    "  - `ranking.py` with the functions that create a timeline for the graph\n",
    " \n",
    "\n",
    "- Two csv files, with the input data"
   ]
  },
  {
   "cell_type": "markdown",
   "metadata": {},
   "source": [
    "## The input data\n",
    "\n",
    "The input consists in two tables in **csv** (comma-separated values) format:\n",
    "\n",
    "1. The transmitters table\n",
    "    contains three columns [*the name of the columns must be preserved for the program to work*]:\n",
    "    - **Transmitters**: the name of each transmitter,\n",
    "    - **dAH**: their death date (either the exact date or an approximation),\n",
    "    - **Origin**: their origin (city/region)\n",
    "\n",
    "\n",
    "2. The transmission table\n",
    "   contains three columns that represent the transmission path. Here is how a transmission path must be represented in the table:\n",
    "    \n",
    "    \n",
    "    TEXT 1: A ---transmits to---> B ---transmits to---> C ---transmits to---> D\n",
    "    \n",
    "    TEXT 2: E ---transmits to---> F ---transmits to---> C ---transmits to---> G\n",
    "    \n",
    "TEXT_1 and TEXT_2 are identifiers (unique way to identify the text, either an abbreviation or alias)\n",
    "    \n",
    "    ----------------------------\n",
    "      From   |   To   | Texts  \n",
    "    ----------------------------\n",
    "    ----------------------------\n",
    "        A    |    B   | TEXT_1\n",
    "    ----------------------------\n",
    "        B    |    C   | TEXT_1\n",
    "    ----------------------------\n",
    "        C    |    D   | TEXT_1\n",
    "    ----------------------------\n",
    "        E    |    F   | TEXT_2\n",
    "    ----------------------------\n",
    "        F    |    C   | TEXT_2\n",
    "    ----------------------------\n",
    "        C    |    G   | TEXT_2"
   ]
  },
  {
   "cell_type": "markdown",
   "metadata": {},
   "source": [
    "## Steps to draw the *isnād* tree\n",
    "\n",
    "- Fill up the csv files with your data\n",
    "\n",
    "- Save the transmitters and the transmission tables as csv files in a folder\n",
    "\n",
    "- Call the function `draw_graph` from the module `graph` and fill up the parameters"
   ]
  },
  {
   "cell_type": "markdown",
   "metadata": {},
   "source": [
    "## Graph parameters"
   ]
  },
  {
   "cell_type": "markdown",
   "metadata": {},
   "source": [
    "- `path_to_file_transmitters`: a string with the path to the csv file with the transmitters\n",
    "- `path_to_file_transmissions`: a string with the path to the csv file with the transmissions\n",
    "- `timeline_step`: time lapse (in years) between each mark (nodes) in the timeline\n",
    "- `graph_format` can be 'svg', 'pdf', 'png'"
   ]
  },
  {
   "cell_type": "markdown",
   "metadata": {},
   "source": [
    "## Example"
   ]
  },
  {
   "cell_type": "code",
   "execution_count": null,
   "metadata": {},
   "outputs": [],
   "source": [
    "#path to the csv file with the transmitters\n",
    "path_to_file_transmitters = 'Transmitters_example.csv'  \n",
    "\n",
    "#path to the csv file with the transmissions\n",
    "path_to_file_transmissions = 'Transmissions_example.csv'\n",
    "\n",
    "# time lapse (in years)\n",
    "timeline_step = 15\n",
    "\n",
    "#format in which the graph should be displayed\n",
    "graph_format = 'pdf'"
   ]
  },
  {
   "cell_type": "code",
   "execution_count": null,
   "metadata": {},
   "outputs": [],
   "source": [
    "from graph import draw_graph, view_graph\n",
    "\n",
    "# this will display the graph in pdf\n",
    "view_graph(path_to_file_transmitters, path_to_file_transmissions, timeline_step, graph_format)"
   ]
  },
  {
   "cell_type": "code",
   "execution_count": null,
   "metadata": {},
   "outputs": [],
   "source": [
    "# This will return a graph object. Jupyter will display it inline.\n",
    "graph_draw(path_to_file_transmitters, path_to_file_transmissions, timeline_step)"
   ]
  }
 ],
 "metadata": {
  "kernelspec": {
   "display_name": "Python 3",
   "language": "python",
   "name": "python3"
  },
  "language_info": {
   "codemirror_mode": {
    "name": "ipython",
    "version": 3
   },
   "file_extension": ".py",
   "mimetype": "text/x-python",
   "name": "python",
   "nbconvert_exporter": "python",
   "pygments_lexer": "ipython3",
   "version": "3.6.5"
  }
 },
 "nbformat": 4,
 "nbformat_minor": 2
}
