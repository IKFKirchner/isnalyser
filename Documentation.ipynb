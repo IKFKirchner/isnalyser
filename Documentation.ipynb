{
 "cells": [
  {
   "cell_type": "markdown",
   "metadata": {},
   "source": [
    "# Isnalyser: Automated isnad tree drawing"
   ]
  },
  {
   "cell_type": "markdown",
   "metadata": {},
   "source": [
    "The present project aims at automating the drawing of *isnād* trees.\n",
    "\n",
    "This folder contains:\n",
    "\n",
    "- Two modules:\n",
    "  - `graph.py` with the function that draws the graph\n",
    "    \n",
    "  - `ranking.py` with the functions that create a timeline for the graph\n",
    " \n",
    "\n",
    "- Two csv files, with the input data"
   ]
  },
  {
   "cell_type": "markdown",
   "metadata": {},
   "source": [
    "## The input data\n",
    "\n",
    "The input consists in two tables in **csv** (comma-separated values) format:\n",
    "\n",
    "1. The transmitters table\n",
    "    contains three columns [*the name of the columns must be preserved for the program to work*]:\n",
    "    - **Transmitters**: the name of each transmitter,\n",
    "    - **dAH**: their death date (either the exact date or an approximation),\n",
    "    - **Origin**: their origin (city/region)\n",
    "\n",
    "\n",
    "2. The transmission table\n",
    "   contains three columns that represent the transmission path. Here is how a transmission path must be represented in the table:\n",
    "    \n",
    "    \n",
    "    TEXT 1: A ---transmits to---> B ---transmits to---> C ---transmits to---> D\n",
    "    \n",
    "    TEXT 2: E ---transmits to---> F ---transmits to---> C ---transmits to---> G\n",
    "    \n",
    "TEXT_1 and TEXT_2 are identifiers (unique way to identify the text, either an abbreviation or alias)\n",
    "    \n",
    "    ----------------------------\n",
    "      From   |   To   | Texts  \n",
    "    ----------------------------\n",
    "    ----------------------------\n",
    "        A    |    B   | TEXT_1\n",
    "    ----------------------------\n",
    "        B    |    C   | TEXT_1\n",
    "    ----------------------------\n",
    "        C    |    D   | TEXT_1\n",
    "    ----------------------------\n",
    "        E    |    F   | TEXT_2\n",
    "    ----------------------------\n",
    "        F    |    C   | TEXT_2\n",
    "    ----------------------------\n",
    "        C    |    G   | TEXT_2"
   ]
  },
  {
   "cell_type": "markdown",
   "metadata": {},
   "source": [
    "## Steps to draw the *isnād* tree\n",
    "\n",
    "- Fill up the csv files with your data\n",
    "\n",
    "- Save the transmitters and the transmission tables as csv files in a folder\n",
    "\n",
    "- Call the function `draw_graph` from the module `graph` and fill up the parameters"
   ]
  },
  {
   "cell_type": "markdown",
   "metadata": {},
   "source": [
    "## Graph parameters"
   ]
  },
  {
   "cell_type": "markdown",
   "metadata": {},
   "source": [
    "- \"path_to_file_transmitters\": path to the csv file with the transmitters\n",
    "- \"path_to_file_transmissions\": path to the csv file with the transmissions\n",
    "- timeline_step: time lapse (in years) between each mark in the timeline\n",
    "- `pdf=True`, if the output wanted is pdf; `pdf=false`, to show the graph in the notebook (png format)"
   ]
  },
  {
   "cell_type": "markdown",
   "metadata": {},
   "source": [
    "## Example"
   ]
  },
  {
   "cell_type": "code",
   "execution_count": 1,
   "metadata": {},
   "outputs": [],
   "source": [
    "#path to the csv file with the transmitters\n",
    "path_to_file_transmitters = 'Transmitters_example.csv'  \n",
    "\n",
    "#path to the csv file with the transmissions\n",
    "path_to_file_transmissions = 'Transmissions_example.csv'\n",
    "\n",
    "timeline_step = 10\n",
    "\n",
    "pdf=False #shows the graph in the notebook (png format)"
   ]
  },
  {
   "cell_type": "code",
   "execution_count": 2,
   "metadata": {},
   "outputs": [],
   "source": [
    "from graph import draw_graph\n",
    "\n",
    "draw_graph(timeline_step, path_to_file_transmitters, path_to_file_transmissions, pdf=True)"
   ]
  }
 ],
 "metadata": {
  "kernelspec": {
   "display_name": "Python 3",
   "language": "python",
   "name": "python3"
  },
  "language_info": {
   "codemirror_mode": {
    "name": "ipython",
    "version": 3
   },
   "file_extension": ".py",
   "mimetype": "text/x-python",
   "name": "python",
   "nbconvert_exporter": "python",
   "pygments_lexer": "ipython3",
   "version": "3.6.5"
  }
 },
 "nbformat": 4,
 "nbformat_minor": 2
}
